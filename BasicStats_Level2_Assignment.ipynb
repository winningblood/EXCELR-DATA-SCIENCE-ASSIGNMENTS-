{
 "cells": [
  {
   "cell_type": "code",
   "execution_count": 1,
   "id": "6106d511-5924-4a6b-9859-858b86625cc8",
   "metadata": {},
   "outputs": [],
   "source": [
    "import numpy as np\n",
    "import scipy.stats as stats\n",
    "import pandas as pd"
   ]
  },
  {
   "cell_type": "code",
   "execution_count": 2,
   "id": "aed5fb17-ef19-4f44-9dbe-8e7b522c0ee4",
   "metadata": {},
   "outputs": [],
   "source": [
    "# Sample data\n",
    "data = np.array([1.13, 1.55, 1.43, 0.92, 1.25, 1.36, 1.32, 0.85, 1.07, 1.48, 1.20, 1.33, 1.18, 1.22, 1.29])\n",
    "sample_mean = np.mean(data)\n",
    "sample_std = np.std(data, ddof=1)  # ddof=1 for sample standard deviation\n",
    "sample_size = len(data)"
   ]
  },
  {
   "cell_type": "code",
   "execution_count": 8,
   "id": "eef6ae51-498b-4cb0-b328-66eedc01f7f0",
   "metadata": {},
   "outputs": [
    {
     "name": "stdout",
     "output_type": "stream",
     "text": [
      "Sample Mean: 1.2386666666666666\n",
      "Sample Standard deviation is: 0.18661427836285438\n"
     ]
    }
   ],
   "source": [
    "sample_mean = np.mean(data)\n",
    "sample_std_dev = np.std(data)\n",
    "n = len(data)\n",
    "df1 = n-1\n",
    "print(\"Sample Mean:\",sample_mean)\n",
    "print(\"Sample Standard deviation is:\",sample_std_dev)"
   ]
  },
  {
   "cell_type": "markdown",
   "id": "7847952b-3fd9-4545-962f-1d7d9ad3962f",
   "metadata": {},
   "source": [
    "Section-A:Build 99% Confidence Interval Using Sample Standard Deviation"
   ]
  },
  {
   "cell_type": "code",
   "execution_count": 6,
   "id": "bee5516c-3404-42e9-b381-4f58ae5e01b8",
   "metadata": {},
   "outputs": [
    {
     "name": "stdout",
     "output_type": "stream",
     "text": [
      "99% confidence interval for the mean number of characters printed before the print-head fails using the sample standard deviation: (0.7579801399989947, 1.7193531933343384)\n"
     ]
    }
   ],
   "source": [
    "from scipy.stats import norm\n",
    "#alpha = 1%\n",
    "ci_99 = norm.interval(0.99,loc=np.mean(data),scale = np.std(data))\n",
    "print(\"99% confidence interval for the mean number of characters printed before the print-head fails using the sample standard deviation:\",ci_99)"
   ]
  },
  {
   "cell_type": "markdown",
   "id": "b85a2d21-c5b7-40e0-94a2-4a4d541d06eb",
   "metadata": {},
   "source": [
    "T - Distribution:\r\n",
    "\r\n",
    "\r\n",
    "\r\n",
    "T - distributoin can be used only when the sample data size is less than 30."
   ]
  },
  {
   "cell_type": "code",
   "execution_count": 9,
   "id": "3fb7c48e-a509-4254-bf4a-bce386025e06",
   "metadata": {},
   "outputs": [
    {
     "data": {
      "text/plain": [
       "2.976842734370834"
      ]
     },
     "execution_count": 9,
     "metadata": {},
     "output_type": "execute_result"
    }
   ],
   "source": [
    "#t distribution for 99% confidence interval\n",
    "t_value = stats.t.ppf(0.995,df1)\n",
    "t_value"
   ]
  },
  {
   "cell_type": "code",
   "execution_count": 10,
   "id": "5ff13b3e-e070-41bd-bc09-a0a7353a5d52",
   "metadata": {},
   "outputs": [
    {
     "data": {
      "text/plain": [
       "0.14343499804054372"
      ]
     },
     "execution_count": 10,
     "metadata": {},
     "output_type": "execute_result"
    }
   ],
   "source": [
    "error_sample = t_value*(sample_std_dev / np.sqrt(n))\n",
    "error_sample"
   ]
  },
  {
   "cell_type": "markdown",
   "id": "84eaf0c7-a49b-4610-a183-3bbc4877042f",
   "metadata": {},
   "source": [
    "Section-B:. Build 99% Confidence Interval Using Known Population Standard Deviation"
   ]
  },
  {
   "cell_type": "code",
   "execution_count": 12,
   "id": "a1d32f1b-b5f8-416f-9832-6634fd276eec",
   "metadata": {},
   "outputs": [],
   "source": [
    "population_std_dev = 0.2"
   ]
  },
  {
   "cell_type": "code",
   "execution_count": 13,
   "id": "e16c38d9-4d79-4e09-ab19-2ee3b9803d83",
   "metadata": {},
   "outputs": [
    {
     "data": {
      "text/plain": [
       "2.5758293035489004"
      ]
     },
     "execution_count": 13,
     "metadata": {},
     "output_type": "execute_result"
    }
   ],
   "source": [
    "#z-value for 99% confidence interval\n",
    "z_value = stats.norm.ppf(0.995)\n",
    "z_value"
   ]
  },
  {
   "cell_type": "code",
   "execution_count": 14,
   "id": "3deaf32f-018a-4061-a9c3-4e5933af6702",
   "metadata": {},
   "outputs": [
    {
     "data": {
      "text/plain": [
       "0.13301525327090588"
      ]
     },
     "execution_count": 14,
     "metadata": {},
     "output_type": "execute_result"
    }
   ],
   "source": [
    "#Error using known population standard deviation\n",
    "error_population = z_value*(population_std_dev / np.sqrt(n))\n",
    "error_population"
   ]
  },
  {
   "cell_type": "code",
   "execution_count": 17,
   "id": "436489bd-dbc9-496d-9757-a793593c2e96",
   "metadata": {},
   "outputs": [
    {
     "name": "stdout",
     "output_type": "stream",
     "text": [
      "construct a 99% confidence interval for the mean number of characters printed before failure: (0.7235008059568865, 1.7538325273764466)\n"
     ]
    }
   ],
   "source": [
    "#alpha value 1%\n",
    "ci99 = norm.interval(0.99,loc = np.mean(data),scale=population_std_dev)\n",
    "ci99\n",
    "print(\"construct a 99% confidence interval for the mean number of characters printed before failure:\",ci99)"
   ]
  }
 ],
 "metadata": {
  "kernelspec": {
   "display_name": "Python 3 (ipykernel)",
   "language": "python",
   "name": "python3"
  },
  "language_info": {
   "codemirror_mode": {
    "name": "ipython",
    "version": 3
   },
   "file_extension": ".py",
   "mimetype": "text/x-python",
   "name": "python",
   "nbconvert_exporter": "python",
   "pygments_lexer": "ipython3",
   "version": "3.12.4"
  }
 },
 "nbformat": 4,
 "nbformat_minor": 5
}

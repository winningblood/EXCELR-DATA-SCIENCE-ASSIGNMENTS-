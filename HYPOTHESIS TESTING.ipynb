{
 "cells": [
  {
   "cell_type": "code",
   "execution_count": 1,
   "id": "445294ac-cfac-49bc-83e4-8643328a4a47",
   "metadata": {},
   "outputs": [],
   "source": [
    "import numpy as np\n",
    "from scipy.stats import t"
   ]
  },
  {
   "cell_type": "code",
   "execution_count": 2,
   "id": "16bddbb1-b3a6-4735-8276-058a55e6a196",
   "metadata": {},
   "outputs": [],
   "source": [
    "# Given data\n",
    "sample_mean = 3050  # sample mean weekly cost (Rs.)\n",
    "theoretical_mean = 1000 + 5 * 600  # theoretical mean weekly cost according to the cost model (W = $1,000 + $5X for X = 600 units)\n",
    "standard_deviation = 5 * 25  # standard deviation of the population\n",
    "sample_size = 25  # sample size\n",
    "alpha = 0.05  # significance level"
   ]
  },
  {
   "cell_type": "code",
   "execution_count": 3,
   "id": "3ec3decf-fda5-4c23-a5af-2498192d29a7",
   "metadata": {},
   "outputs": [],
   "source": [
    "# Calculate the test statistic (t)\n",
    "standard_error = standard_deviation / np.sqrt(sample_size)\n",
    "t_statistic = (sample_mean - theoretical_mean) / standard_error"
   ]
  },
  {
   "cell_type": "code",
   "execution_count": 4,
   "id": "60a49673-c1a6-4882-a6f1-b53eaaa2d068",
   "metadata": {},
   "outputs": [
    {
     "name": "stdout",
     "output_type": "stream",
     "text": [
      "standard error 25.0\n",
      "t statistic -38.0\n"
     ]
    }
   ],
   "source": [
    "print(\"standard error\",standard_error)\n",
    "print(\"t statistic\",t_statistic)"
   ]
  },
  {
   "cell_type": "code",
   "execution_count": 5,
   "id": "8412a1d4-8384-4b1a-ba1f-0c7eb6199577",
   "metadata": {},
   "outputs": [],
   "source": [
    "# Determine the critical value from the t-distribution\n",
    "degrees_of_freedom = sample_size - 1\n",
    "critical_value = t.ppf(1 - alpha, degrees_of_freedom)"
   ]
  },
  {
   "cell_type": "code",
   "execution_count": 6,
   "id": "73a734f8-81e7-4287-bcf2-e43ce5c00edf",
   "metadata": {},
   "outputs": [
    {
     "data": {
      "text/plain": [
       "1.7108820799094275"
      ]
     },
     "execution_count": 6,
     "metadata": {},
     "output_type": "execute_result"
    }
   ],
   "source": [
    "critical_value"
   ]
  }
 ],
 "metadata": {
  "kernelspec": {
   "display_name": "Python 3 (ipykernel)",
   "language": "python",
   "name": "python3"
  },
  "language_info": {
   "codemirror_mode": {
    "name": "ipython",
    "version": 3
   },
   "file_extension": ".py",
   "mimetype": "text/x-python",
   "name": "python",
   "nbconvert_exporter": "python",
   "pygments_lexer": "ipython3",
   "version": "3.12.4"
  }
 },
 "nbformat": 4,
 "nbformat_minor": 5
}
